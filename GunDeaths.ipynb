{
 "cells": [
  {
   "cell_type": "code",
   "execution_count": 14,
   "metadata": {
    "collapsed": false
   },
   "outputs": [
    {
     "name": "stdout",
     "output_type": "stream",
     "text": [
      "[['', 'year', 'month', 'intent', 'police', 'sex', 'age', 'race', 'hispanic', 'place', 'education'], ['1', '2012', '01', 'Suicide', '0', 'M', '34', 'Asian/Pacific Islander', '100', 'Home', '4'], ['2', '2012', '01', 'Suicide', '0', 'F', '21', 'White', '100', 'Street', '3'], ['3', '2012', '01', 'Suicide', '0', 'M', '60', 'White', '100', 'Other specified', '4'], ['4', '2012', '02', 'Suicide', '0', 'M', '64', 'White', '100', 'Home', '4'], ['5', '2012', '02', 'Suicide', '0', 'M', '31', 'White', '100', 'Other specified', '2'], ['6', '2012', '02', 'Suicide', '0', 'M', '17', 'Native American/Native Alaskan', '100', 'Home', '1'], ['7', '2012', '02', 'Undetermined', '0', 'M', '48', 'White', '100', 'Home', '2'], ['8', '2012', '03', 'Suicide', '0', 'M', '41', 'Native American/Native Alaskan', '100', 'Home', '2'], ['9', '2012', '02', 'Accidental', '0', 'M', '50', 'White', '100', 'Other specified', '3']]\n"
     ]
    }
   ],
   "source": [
    "import csv\n",
    "with open('/Users/ram/Desktop/K2DataScience/gunsdeath.csv', 'r') as file:\n",
    "    filecontent = csv.reader(file)\n",
    "    data_gun = list(filecontent)\n",
    "print(data_gun[0:10])"
   ]
  },
  {
   "cell_type": "code",
   "execution_count": 15,
   "metadata": {
    "collapsed": false
   },
   "outputs": [
    {
     "name": "stdout",
     "output_type": "stream",
     "text": [
      "['', 'year', 'month', 'intent', 'police', 'sex', 'age', 'race', 'hispanic', 'place', 'education']\n",
      "[['1', '2012', '01', 'Suicide', '0', 'M', '34', 'Asian/Pacific Islander', '100', 'Home', '4'], ['2', '2012', '01', 'Suicide', '0', 'F', '21', 'White', '100', 'Street', '3'], ['3', '2012', '01', 'Suicide', '0', 'M', '60', 'White', '100', 'Other specified', '4'], ['4', '2012', '02', 'Suicide', '0', 'M', '64', 'White', '100', 'Home', '4'], ['5', '2012', '02', 'Suicide', '0', 'M', '31', 'White', '100', 'Other specified', '2'], ['6', '2012', '02', 'Suicide', '0', 'M', '17', 'Native American/Native Alaskan', '100', 'Home', '1'], ['7', '2012', '02', 'Undetermined', '0', 'M', '48', 'White', '100', 'Home', '2'], ['8', '2012', '03', 'Suicide', '0', 'M', '41', 'Native American/Native Alaskan', '100', 'Home', '2'], ['9', '2012', '02', 'Accidental', '0', 'M', '50', 'White', '100', 'Other specified', '3'], ['10', '2012', '02', 'Suicide', '0', 'M', 'NA', 'Black', '998', 'Home', '5']]\n"
     ]
    }
   ],
   "source": [
    "head_col=data_gun[0]\n",
    "print(head_col)\n",
    "data_gun = data_gun[1:]\n",
    "print(data_gun[:10])"
   ]
  },
  {
   "cell_type": "code",
   "execution_count": 26,
   "metadata": {
    "collapsed": false
   },
   "outputs": [
    {
     "name": "stdout",
     "output_type": "stream",
     "text": [
      "{'2014': 33599, '2013': 33636, '2012': 33563}\n"
     ]
    }
   ],
   "source": [
    "year = [row[1] for row in data_gun]\n",
    "\n",
    "year_death = {}\n",
    "for i in year:\n",
    "    if i not in year_death:\n",
    "        year_death[i] = 0\n",
    "    year_death[i] = year_death[i] + 1\n",
    "print(year_death)"
   ]
  },
  {
   "cell_type": "code",
   "execution_count": null,
   "metadata": {
    "collapsed": false
   },
   "outputs": [],
   "source": []
  },
  {
   "cell_type": "code",
   "execution_count": 35,
   "metadata": {
    "collapsed": false
   },
   "outputs": [
    {
     "name": "stdout",
     "output_type": "stream",
     "text": [
      "{'F': 14449, 'M': 86349}\n"
     ]
    }
   ],
   "source": [
    "MorF = [row[5] for row in data_gun]\n",
    "\n",
    "sex_death = {}\n",
    "for i in MorF:\n",
    "    if i not in sex_death:\n",
    "        sex_death[i] = 0\n",
    "    sex_death[i] = sex_death[i] + 1\n",
    "print(sex_death)"
   ]
  },
  {
   "cell_type": "code",
   "execution_count": 104,
   "metadata": {
    "collapsed": false
   },
   "outputs": [
    {
     "name": "stdout",
     "output_type": "stream",
     "text": [
      "{'Black': 23296, 'Hispanic': 9022, 'Native American/Native Alaskan': 917, 'Asian/Pacific Islander': 1326, 'White': 66237}\n"
     ]
    }
   ],
   "source": [
    "race = [row[7] for row in data_gun]\n",
    "\n",
    "race_death = {}\n",
    "for i in race:\n",
    "    if i not in race_death:\n",
    "        race_death[i] = 0\n",
    "    race_death[i] = race_death[i] + 1\n",
    "print(race_death)"
   ]
  },
  {
   "cell_type": "code",
   "execution_count": 105,
   "metadata": {
    "collapsed": false
   },
   "outputs": [
    {
     "name": "stdout",
     "output_type": "stream",
     "text": [
      "{'Native American/Native Alaskan': 24.521955573811088, 'Hispanic': 20.220491210910907, 'Black': 57.8773477735196, 'Asian/Pacific Islander': 8.374309664161762, 'White': 33.56849303419181}\n"
     ]
    }
   ],
   "source": [
    "mapping = { \"Asian/Pacific Islander\": 15159516 + 674625, \n",
    "           \"Native American/Native Alaskan\": 3739506, \"Black\": 40250635, \n",
    "           \"Hispanic\": 44618105, \"White\": 197318956 }\n",
    "gun_death = {}\n",
    "\n",
    "for k,v in race_death.items():\n",
    "    if k in mapping:\n",
    "        count = (v/mapping[k]) * 100000\n",
    "        gun_death[k] = count\n",
    "print(gun_death)"
   ]
  },
  {
   "cell_type": "code",
   "execution_count": 138,
   "metadata": {
    "collapsed": false
   },
   "outputs": [
    {
     "name": "stdout",
     "output_type": "stream",
     "text": [
      "{'Black': 19510, 'Hispanic': 5634, 'Native American/Native Alaskan': 326, 'Asian/Pacific Islander': 559, 'White': 9147}\n",
      "{'Native American/Native Alaskan': 8.717729026240365, 'Hispanic': 12.627161104219914, 'Black': 48.471284987180944, 'Asian/Pacific Islander': 3.530346230970155, 'White': 4.6356417981453335}\n"
     ]
    }
   ],
   "source": [
    "mapping = { \"Asian/Pacific Islander\": 15159516 + 674625, \n",
    "           \"Native American/Native Alaskan\": 3739506, \"Black\": 40250635, \n",
    "           \"Hispanic\": 44618105, \"White\": 197318956 }\n",
    "cause_death_hom = {}\n",
    "for row in data_gun:\n",
    "    race = row[7]\n",
    "    cause = row[3]\n",
    "    if race not in cause_death_hom :\n",
    "        cause_death_hom[race]=0\n",
    "    if cause == 'Homicide':\n",
    "        cause_death_hom[race] +=1\n",
    "              \n",
    "print(cause_death_hom)\n",
    "cause_death_homicide = {}\n",
    "for key, val in cause_death_hom.items():\n",
    "    if key in mapping:\n",
    "        count = (val/mapping[key]) * 100000\n",
    "        cause_death_homicide[key] = count\n",
    "print(cause_death_homicide)"
   ]
  },
  {
   "cell_type": "code",
   "execution_count": 137,
   "metadata": {
    "collapsed": false
   },
   "outputs": [
    {
     "name": "stdout",
     "output_type": "stream",
     "text": [
      "{'Black': 3332, 'Hispanic': 3171, 'Native American/Native Alaskan': 555, 'Asian/Pacific Islander': 745, 'White': 55372}\n",
      "{'Native American/Native Alaskan': 14.841532544673013, 'Hispanic': 7.106980451097149, 'Black': 8.278130270491385, 'Asian/Pacific Islander': 4.705023152187416, 'White': 28.06217969245692}\n"
     ]
    }
   ],
   "source": [
    "mapping = { \"Asian/Pacific Islander\": 15159516 + 674625, \n",
    "           \"Native American/Native Alaskan\": 3739506, \"Black\": 40250635, \n",
    "           \"Hispanic\": 44618105, \"White\": 197318956 }\n",
    "cause_death_sui = {}\n",
    "for row in data_gun:\n",
    "    race = row[7]\n",
    "    cause = row[3]\n",
    "    if race not in cause_death_sui :\n",
    "        cause_death_sui[race]=0\n",
    "    if cause == 'Suicide':\n",
    "        cause_death_sui[race] +=1\n",
    "              \n",
    "print(cause_death_sui)\n",
    "cause_death_suicide = {}\n",
    "for key, val in cause_death_sui.items():\n",
    "    if key in mapping:\n",
    "        count = (val/mapping[key]) * 100000\n",
    "        cause_death_suicide[key] = count\n",
    "print(cause_death_suicide)"
   ]
  },
  {
   "cell_type": "code",
   "execution_count": null,
   "metadata": {
    "collapsed": true
   },
   "outputs": [],
   "source": []
  },
  {
   "cell_type": "code",
   "execution_count": null,
   "metadata": {
    "collapsed": true
   },
   "outputs": [],
   "source": []
  }
 ],
 "metadata": {
  "anaconda-cloud": {},
  "kernelspec": {
   "display_name": "Python [default]",
   "language": "python",
   "name": "python3"
  },
  "language_info": {
   "codemirror_mode": {
    "name": "ipython",
    "version": 3
   },
   "file_extension": ".py",
   "mimetype": "text/x-python",
   "name": "python",
   "nbconvert_exporter": "python",
   "pygments_lexer": "ipython3",
   "version": "3.5.2"
  }
 },
 "nbformat": 4,
 "nbformat_minor": 1
}
