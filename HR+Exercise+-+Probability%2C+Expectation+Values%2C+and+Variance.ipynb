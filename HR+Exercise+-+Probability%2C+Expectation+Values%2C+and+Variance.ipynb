{
 "cells": [
  {
   "cell_type": "code",
   "execution_count": 2,
   "metadata": {
    "collapsed": true
   },
   "outputs": [],
   "source": [
    "%matplotlib inline\n",
    "import numpy as np\n",
    "import pandas as pd\n",
    "import matplotlib.pyplot as plt\n",
    "import math\n"
   ]
  },
  {
   "cell_type": "code",
   "execution_count": 3,
   "metadata": {
    "collapsed": false
   },
   "outputs": [
    {
     "data": {
      "text/plain": [
       "satisfaction_level       float64\n",
       "last_evaluation          float64\n",
       "number_project             int64\n",
       "average_montly_hours       int64\n",
       "time_spend_company         int64\n",
       "Work_accident              int64\n",
       "left                       int64\n",
       "promotion_last_5years      int64\n",
       "sales                     object\n",
       "salary                    object\n",
       "dtype: object"
      ]
     },
     "execution_count": 3,
     "metadata": {},
     "output_type": "execute_result"
    }
   ],
   "source": [
    "data = pd.read_csv('/Users/ram/Desktop/K2DataScience/HR_comma_sep.csv', low_memory = False)\n",
    "data.dtypes"
   ]
  },
  {
   "cell_type": "code",
   "execution_count": 4,
   "metadata": {
    "collapsed": false
   },
   "outputs": [
    {
     "data": {
      "text/html": [
       "<div>\n",
       "<table border=\"1\" class=\"dataframe\">\n",
       "  <thead>\n",
       "    <tr style=\"text-align: right;\">\n",
       "      <th></th>\n",
       "      <th>satisfaction_level</th>\n",
       "      <th>last_evaluation</th>\n",
       "      <th>number_project</th>\n",
       "      <th>average_montly_hours</th>\n",
       "      <th>time_spend_company</th>\n",
       "      <th>Work_accident</th>\n",
       "      <th>left</th>\n",
       "      <th>promotion_last_5years</th>\n",
       "      <th>sales</th>\n",
       "      <th>salary</th>\n",
       "    </tr>\n",
       "  </thead>\n",
       "  <tbody>\n",
       "    <tr>\n",
       "      <th>0</th>\n",
       "      <td>0.38</td>\n",
       "      <td>0.53</td>\n",
       "      <td>2</td>\n",
       "      <td>157</td>\n",
       "      <td>3</td>\n",
       "      <td>0</td>\n",
       "      <td>1</td>\n",
       "      <td>0</td>\n",
       "      <td>sales</td>\n",
       "      <td>low</td>\n",
       "    </tr>\n",
       "    <tr>\n",
       "      <th>1</th>\n",
       "      <td>0.80</td>\n",
       "      <td>0.86</td>\n",
       "      <td>5</td>\n",
       "      <td>262</td>\n",
       "      <td>6</td>\n",
       "      <td>0</td>\n",
       "      <td>1</td>\n",
       "      <td>0</td>\n",
       "      <td>sales</td>\n",
       "      <td>medium</td>\n",
       "    </tr>\n",
       "    <tr>\n",
       "      <th>2</th>\n",
       "      <td>0.11</td>\n",
       "      <td>0.88</td>\n",
       "      <td>7</td>\n",
       "      <td>272</td>\n",
       "      <td>4</td>\n",
       "      <td>0</td>\n",
       "      <td>1</td>\n",
       "      <td>0</td>\n",
       "      <td>sales</td>\n",
       "      <td>medium</td>\n",
       "    </tr>\n",
       "    <tr>\n",
       "      <th>3</th>\n",
       "      <td>0.72</td>\n",
       "      <td>0.87</td>\n",
       "      <td>5</td>\n",
       "      <td>223</td>\n",
       "      <td>5</td>\n",
       "      <td>0</td>\n",
       "      <td>1</td>\n",
       "      <td>0</td>\n",
       "      <td>sales</td>\n",
       "      <td>low</td>\n",
       "    </tr>\n",
       "    <tr>\n",
       "      <th>4</th>\n",
       "      <td>0.37</td>\n",
       "      <td>0.52</td>\n",
       "      <td>2</td>\n",
       "      <td>159</td>\n",
       "      <td>3</td>\n",
       "      <td>0</td>\n",
       "      <td>1</td>\n",
       "      <td>0</td>\n",
       "      <td>sales</td>\n",
       "      <td>low</td>\n",
       "    </tr>\n",
       "  </tbody>\n",
       "</table>\n",
       "</div>"
      ],
      "text/plain": [
       "   satisfaction_level  last_evaluation  number_project  average_montly_hours  \\\n",
       "0                0.38             0.53               2                   157   \n",
       "1                0.80             0.86               5                   262   \n",
       "2                0.11             0.88               7                   272   \n",
       "3                0.72             0.87               5                   223   \n",
       "4                0.37             0.52               2                   159   \n",
       "\n",
       "   time_spend_company  Work_accident  left  promotion_last_5years  sales  \\\n",
       "0                   3              0     1                      0  sales   \n",
       "1                   6              0     1                      0  sales   \n",
       "2                   4              0     1                      0  sales   \n",
       "3                   5              0     1                      0  sales   \n",
       "4                   3              0     1                      0  sales   \n",
       "\n",
       "   salary  \n",
       "0     low  \n",
       "1  medium  \n",
       "2  medium  \n",
       "3     low  \n",
       "4     low  "
      ]
     },
     "execution_count": 4,
     "metadata": {},
     "output_type": "execute_result"
    }
   ],
   "source": [
    "data.head()"
   ]
  },
  {
   "cell_type": "code",
   "execution_count": 5,
   "metadata": {
    "collapsed": false
   },
   "outputs": [
    {
     "data": {
      "text/plain": [
       "pandas.core.frame.DataFrame"
      ]
     },
     "execution_count": 5,
     "metadata": {},
     "output_type": "execute_result"
    }
   ],
   "source": [
    "type(data)"
   ]
  },
  {
   "cell_type": "code",
   "execution_count": 6,
   "metadata": {
    "collapsed": false
   },
   "outputs": [
    {
     "data": {
      "text/html": [
       "<div>\n",
       "<table border=\"1\" class=\"dataframe\">\n",
       "  <thead>\n",
       "    <tr style=\"text-align: right;\">\n",
       "      <th></th>\n",
       "      <th>satisfaction_level</th>\n",
       "      <th>last_evaluation</th>\n",
       "      <th>number_project</th>\n",
       "      <th>average_montly_hours</th>\n",
       "      <th>time_spend_company</th>\n",
       "      <th>Work_accident</th>\n",
       "      <th>left</th>\n",
       "      <th>promotion_last_5years</th>\n",
       "    </tr>\n",
       "  </thead>\n",
       "  <tbody>\n",
       "    <tr>\n",
       "      <th>count</th>\n",
       "      <td>14999.000000</td>\n",
       "      <td>14999.000000</td>\n",
       "      <td>14999.000000</td>\n",
       "      <td>14999.000000</td>\n",
       "      <td>14999.000000</td>\n",
       "      <td>14999.000000</td>\n",
       "      <td>14999.000000</td>\n",
       "      <td>14999.000000</td>\n",
       "    </tr>\n",
       "    <tr>\n",
       "      <th>mean</th>\n",
       "      <td>0.612834</td>\n",
       "      <td>0.716102</td>\n",
       "      <td>3.803054</td>\n",
       "      <td>201.050337</td>\n",
       "      <td>3.498233</td>\n",
       "      <td>0.144610</td>\n",
       "      <td>0.238083</td>\n",
       "      <td>0.021268</td>\n",
       "    </tr>\n",
       "    <tr>\n",
       "      <th>std</th>\n",
       "      <td>0.248631</td>\n",
       "      <td>0.171169</td>\n",
       "      <td>1.232592</td>\n",
       "      <td>49.943099</td>\n",
       "      <td>1.460136</td>\n",
       "      <td>0.351719</td>\n",
       "      <td>0.425924</td>\n",
       "      <td>0.144281</td>\n",
       "    </tr>\n",
       "    <tr>\n",
       "      <th>min</th>\n",
       "      <td>0.090000</td>\n",
       "      <td>0.360000</td>\n",
       "      <td>2.000000</td>\n",
       "      <td>96.000000</td>\n",
       "      <td>2.000000</td>\n",
       "      <td>0.000000</td>\n",
       "      <td>0.000000</td>\n",
       "      <td>0.000000</td>\n",
       "    </tr>\n",
       "    <tr>\n",
       "      <th>25%</th>\n",
       "      <td>0.440000</td>\n",
       "      <td>0.560000</td>\n",
       "      <td>3.000000</td>\n",
       "      <td>156.000000</td>\n",
       "      <td>3.000000</td>\n",
       "      <td>0.000000</td>\n",
       "      <td>0.000000</td>\n",
       "      <td>0.000000</td>\n",
       "    </tr>\n",
       "    <tr>\n",
       "      <th>50%</th>\n",
       "      <td>0.640000</td>\n",
       "      <td>0.720000</td>\n",
       "      <td>4.000000</td>\n",
       "      <td>200.000000</td>\n",
       "      <td>3.000000</td>\n",
       "      <td>0.000000</td>\n",
       "      <td>0.000000</td>\n",
       "      <td>0.000000</td>\n",
       "    </tr>\n",
       "    <tr>\n",
       "      <th>75%</th>\n",
       "      <td>0.820000</td>\n",
       "      <td>0.870000</td>\n",
       "      <td>5.000000</td>\n",
       "      <td>245.000000</td>\n",
       "      <td>4.000000</td>\n",
       "      <td>0.000000</td>\n",
       "      <td>0.000000</td>\n",
       "      <td>0.000000</td>\n",
       "    </tr>\n",
       "    <tr>\n",
       "      <th>max</th>\n",
       "      <td>1.000000</td>\n",
       "      <td>1.000000</td>\n",
       "      <td>7.000000</td>\n",
       "      <td>310.000000</td>\n",
       "      <td>10.000000</td>\n",
       "      <td>1.000000</td>\n",
       "      <td>1.000000</td>\n",
       "      <td>1.000000</td>\n",
       "    </tr>\n",
       "  </tbody>\n",
       "</table>\n",
       "</div>"
      ],
      "text/plain": [
       "       satisfaction_level  last_evaluation  number_project  \\\n",
       "count        14999.000000     14999.000000    14999.000000   \n",
       "mean             0.612834         0.716102        3.803054   \n",
       "std              0.248631         0.171169        1.232592   \n",
       "min              0.090000         0.360000        2.000000   \n",
       "25%              0.440000         0.560000        3.000000   \n",
       "50%              0.640000         0.720000        4.000000   \n",
       "75%              0.820000         0.870000        5.000000   \n",
       "max              1.000000         1.000000        7.000000   \n",
       "\n",
       "       average_montly_hours  time_spend_company  Work_accident          left  \\\n",
       "count          14999.000000        14999.000000   14999.000000  14999.000000   \n",
       "mean             201.050337            3.498233       0.144610      0.238083   \n",
       "std               49.943099            1.460136       0.351719      0.425924   \n",
       "min               96.000000            2.000000       0.000000      0.000000   \n",
       "25%              156.000000            3.000000       0.000000      0.000000   \n",
       "50%              200.000000            3.000000       0.000000      0.000000   \n",
       "75%              245.000000            4.000000       0.000000      0.000000   \n",
       "max              310.000000           10.000000       1.000000      1.000000   \n",
       "\n",
       "       promotion_last_5years  \n",
       "count           14999.000000  \n",
       "mean                0.021268  \n",
       "std                 0.144281  \n",
       "min                 0.000000  \n",
       "25%                 0.000000  \n",
       "50%                 0.000000  \n",
       "75%                 0.000000  \n",
       "max                 1.000000  "
      ]
     },
     "execution_count": 6,
     "metadata": {},
     "output_type": "execute_result"
    }
   ],
   "source": [
    "data.describe()"
   ]
  },
  {
   "cell_type": "code",
   "execution_count": 7,
   "metadata": {
    "collapsed": false
   },
   "outputs": [
    {
     "data": {
      "text/plain": [
       "satisfaction_level         0.612834\n",
       "last_evaluation            0.716102\n",
       "number_project             3.803054\n",
       "average_montly_hours     201.050337\n",
       "time_spend_company         3.498233\n",
       "Work_accident              0.144610\n",
       "left                       0.238083\n",
       "promotion_last_5years      0.021268\n",
       "dtype: float64"
      ]
     },
     "execution_count": 7,
     "metadata": {},
     "output_type": "execute_result"
    }
   ],
   "source": [
    "data.index = data[\"satisfaction_level\"]\n",
    "data.mean()   \n"
   ]
  },
  {
   "cell_type": "code",
   "execution_count": 8,
   "metadata": {
    "collapsed": false
   },
   "outputs": [
    {
     "data": {
      "text/plain": [
       "satisfaction_level         0.64\n",
       "last_evaluation            0.72\n",
       "number_project             4.00\n",
       "average_montly_hours     200.00\n",
       "time_spend_company         3.00\n",
       "Work_accident              0.00\n",
       "left                       0.00\n",
       "promotion_last_5years      0.00\n",
       "dtype: float64"
      ]
     },
     "execution_count": 8,
     "metadata": {},
     "output_type": "execute_result"
    }
   ],
   "source": [
    "data.median()"
   ]
  },
  {
   "cell_type": "code",
   "execution_count": 50,
   "metadata": {
    "collapsed": false
   },
   "outputs": [
    {
     "name": "stdout",
     "output_type": "stream",
     "text": [
      "Probability that a randomly selected employee left the company is  0.2380825388359224\n"
     ]
    }
   ],
   "source": [
    "#Question # 1a) What is the probability that a randomly selected employee left the company?\n",
    "\n",
    "N = len(data)\n",
    "count_left = 0\n",
    "for i in data.left:\n",
    "    if i == 1:\n",
    "        count_left = count_left + 1\n",
    "\n",
    "left = count_left/N\n",
    "print(\"Probability that a randomly selected employee left the company is \", left)"
   ]
  },
  {
   "cell_type": "code",
   "execution_count": 51,
   "metadata": {
    "collapsed": false
   },
   "outputs": [
    {
     "name": "stdout",
     "output_type": "stream",
     "text": [
      "Probability that a randomly selected employee had an accident is  0.1446096406427095\n"
     ]
    }
   ],
   "source": [
    "#Question # 1b) What is the probabiity that an employee experienced a work accident\n",
    "\n",
    "count_acc = 0\n",
    "for i in data.Work_accident:\n",
    "    if i == 1:\n",
    "        count_acc = count_acc + 1\n",
    "accident = count_acc/N\n",
    "print(\"Probability that a randomly selected employee had an accident is \", accident)"
   ]
  },
  {
   "cell_type": "code",
   "execution_count": 11,
   "metadata": {
    "collapsed": false
   },
   "outputs": [
    {
     "name": "stdout",
     "output_type": "stream",
     "text": [
      "Employee left and had an accident is  0.01126741782785519\n"
     ]
    }
   ],
   "source": [
    "#Question 1. c) What is the probability that a randomly selected employee left \n",
    "#the company and experienced a work accident?\n",
    "\n",
    "count_int = 0\n",
    "for (i,j) in zip(data.left, data.Work_accident):\n",
    "    if i == 1 and j == 1:\n",
    "        count_int = count_int + 1      \n",
    "intersection = count_int/N\n",
    "print('Employee left and had an accident is ', intersection)"
   ]
  },
  {
   "cell_type": "code",
   "execution_count": 12,
   "metadata": {
    "collapsed": false
   },
   "outputs": [
    {
     "name": "stdout",
     "output_type": "stream",
     "text": [
      "Satisfaction levels of employees who left the company \n",
      "25th percentile is  0.13\n",
      "50th percentile is  0.41\n",
      "90th percentile is  0.84\n"
     ]
    }
   ],
   "source": [
    "#2. Compute the 25th, 50th, and 90th percentiles for the satisfaction level score for \n",
    "#all employees that left the company. \n",
    "\n",
    "satisfaction = []\n",
    "for row in data.iterrows():\n",
    "    if row[1].left == 1:\n",
    "        satisfaction.append(row[1].satisfaction_level)\n",
    "\n",
    "p25 = np.percentile(satisfaction, 25)\n",
    "p50 = np.percentile(satisfaction, 50)\n",
    "p90 = np.percentile(satisfaction, 90)\n",
    "\n",
    "print('Satisfaction levels of employees who left the company ')\n",
    "print('25th percentile is ', p25)\n",
    "print('50th percentile is ', p50)\n",
    "print('90th percentile is ', p90)\n"
   ]
  },
  {
   "cell_type": "code",
   "execution_count": 13,
   "metadata": {
    "collapsed": false
   },
   "outputs": [
    {
     "name": "stdout",
     "output_type": "stream",
     "text": [
      "Satisfaction levels of employees who stayed with the company \n",
      "25th percentile is  0.54\n",
      "50th percentile is  0.69\n",
      "90th percentile is  0.94\n"
     ]
    }
   ],
   "source": [
    "#Compare these results to the same percentiles for those that did not leave. \n",
    "#What can you say about the results?\n",
    "\n",
    "satisfaction_a = []\n",
    "for row in data.iterrows():\n",
    "    if row[1].left == 0:\n",
    "        satisfaction_a.append(row[1].satisfaction_level)\n",
    "\n",
    "p25 = np.percentile(satisfaction_a, 25)\n",
    "p50 = np.percentile(satisfaction_a, 50)\n",
    "p90 = np.percentile(satisfaction_a, 90)\n",
    "\n",
    "print('Satisfaction levels of employees who stayed with the company ')\n",
    "print('25th percentile is ', p25)\n",
    "print('50th percentile is ', p50)\n",
    "print('90th percentile is ', p90)"
   ]
  },
  {
   "cell_type": "markdown",
   "metadata": {
    "collapsed": true
   },
   "source": [
    "Employees who left the company had lower satisfation levels than employees who stayed with the company."
   ]
  },
  {
   "cell_type": "code",
   "execution_count": 14,
   "metadata": {
    "collapsed": false
   },
   "outputs": [
    {
     "name": "stdout",
     "output_type": "stream",
     "text": [
      "Variance of number of hourse worked is   2494.313174809979\n",
      "Standard deviation of number of hourse worked is   49.943099371284305\n"
     ]
    }
   ],
   "source": [
    "#Question 3. Compute the variance and standard deviation of hours worked.\n",
    "\n",
    "print('Variance of number of hourse worked is  ', data.average_montly_hours.var())\n",
    "\n",
    "print('Standard deviation of number of hourse worked is  ', data.average_montly_hours.std())\n"
   ]
  },
  {
   "cell_type": "code",
   "execution_count": 46,
   "metadata": {
    "collapsed": false
   },
   "outputs": [
    {
     "name": "stdout",
     "output_type": "stream",
     "text": [
      "2494\n"
     ]
    }
   ],
   "source": [
    "import statistics\n",
    "print(statistics.variance(data.average_montly_hours))"
   ]
  },
  {
   "cell_type": "code",
   "execution_count": 15,
   "metadata": {
    "collapsed": false
   },
   "outputs": [
    {
     "name": "stdout",
     "output_type": "stream",
     "text": [
      "Variance of employees who left is   0.069641351357\n",
      "Variance of employees who stayed is   0.0471299157918\n"
     ]
    }
   ],
   "source": [
    "#Quistion 4. Compare the variance between the satisfaction levels of employees \n",
    "# who left versus those who stayed. Which is larger? What does this mean?\n",
    "\n",
    "print('Variance of employees who left is  ', np.var(satisfaction))\n",
    "print('Variance of employees who stayed is  ', np.var(satisfaction_a))\n"
   ]
  },
  {
   "cell_type": "code",
   "execution_count": 17,
   "metadata": {
    "collapsed": false,
    "scrolled": true
   },
   "outputs": [
    {
     "name": "stdout",
     "output_type": "stream",
     "text": [
      "Mean of salary level LOW  0.600753143794\n",
      "Mean of salary level MEDIUM  0.621816630469\n",
      "Mean of salary level HIGH  0.637469684721\n"
     ]
    }
   ],
   "source": [
    "#Question 5. Compute the mean satisfaction level for each salary category. \n",
    "#Comment on your results.\n",
    "\n",
    "satisfaction_low = []\n",
    "satisfaction_med = []\n",
    "satisfaction_hgh = []\n",
    "\n",
    "for row in data.iterrows():\n",
    "    if row[1].salary == 'low':\n",
    "        satisfaction_low.append(row[1].satisfaction_level)\n",
    "    elif row[1].salary == 'medium':\n",
    "        satisfaction_med.append(row[1].satisfaction_level)\n",
    "    elif row[1].salary == 'high':\n",
    "        satisfaction_hgh.append(row[1].satisfaction_level)\n",
    "sal_low = np.mean(satisfaction_low)\n",
    "sal_med = np.mean(satisfaction_med)\n",
    "sal_hgh = np.mean(satisfaction_hgh)\n",
    "\n",
    "print('Mean of salary level LOW ', sal_low)\n",
    "print('Mean of salary level MEDIUM ', sal_med)\n",
    "print('Mean of salary level HIGH ', sal_hgh)"
   ]
  },
  {
   "cell_type": "markdown",
   "metadata": {},
   "source": [
    "The satisfactoinal levels are not corelated to the salary of the employees."
   ]
  },
  {
   "cell_type": "code",
   "execution_count": 34,
   "metadata": {
    "collapsed": false
   },
   "outputs": [
    {
     "name": "stdout",
     "output_type": "stream",
     "text": [
      "Probability of salary  low       0.487766\n",
      "medium    0.429762\n",
      "high      0.082472\n",
      "Name: salary, dtype: float64\n",
      "Probability of  hours > 2 standard deviations given Salary \n",
      " low       0.013532\n",
      "medium    0.008998\n",
      "high      0.001617\n",
      "Name: salary, dtype: float64\n"
     ]
    }
   ],
   "source": [
    "#Question 6. Given an employees salary level (low, medium, or high), \n",
    "#calculate the probability that they worked more \n",
    "#than two standard deviations of the average monthly hours across all groups. \n",
    "\n",
    "std_hrs = data.average_montly_hours.std()\n",
    "mean_hrs = data.average_montly_hours.mean()\n",
    "#print(std_hrs) print(std_mean)\n",
    "two_std = mean_hrs + 2 * std_hrs\n",
    "\n",
    "avg_hrs = []\n",
    "for i in data.average_montly_hours:\n",
    "    if i > two_std:\n",
    "        avg_hrs.append(i)\n",
    "count_hrs = len(avg_hrs)\n",
    "N = len(data)\n",
    "prob_hours = count_hrs/N\n",
    "prob_sal = data.salary.value_counts()/N\n",
    "\n",
    "print('Probability of salary ', prob_sal)\n",
    "\n",
    "prob_sal_hrs = data[data.average_montly_hours > two_std].salary.value_counts()/count_hrs\n",
    "\n",
    "#print('Probability of Salary given hours > 2 standard deviations ', prob_sal_hrs)\n",
    "\n",
    "prob_hrs_sal = (prob_sal_hrs * prob_hours )/prob_sal\n",
    "\n",
    "print('Probability of  hours > 2 standard deviations given Salary \\n',prob_hrs_sal)\n",
    "\n",
    "\n"
   ]
  },
  {
   "cell_type": "code",
   "execution_count": 35,
   "metadata": {
    "collapsed": false
   },
   "outputs": [
    {
     "name": "stdout",
     "output_type": "stream",
     "text": [
      "Probability of salary given employees range \n",
      " low       0.608233\n",
      "medium    0.368804\n",
      "high      0.022963\n",
      "Name: salary, dtype: float64\n",
      "Probability of employees left given salary range \n",
      " low       0.296884\n",
      "medium    0.204313\n",
      "high      0.066289\n",
      "Name: salary, dtype: float64\n"
     ]
    }
   ],
   "source": [
    "#Question # 8\n",
    "\n",
    "prob_left = len(data[data.left == 1])/ len(data)\n",
    "prob_sal = data.salary.value_counts()/N\n",
    "prob_sal_left = data[data.left == 1].salary.value_counts()/ len(data[data.left == 1])\n",
    "\n",
    "print('Probability of salary given employees range \\n',prob_sal_left)\n",
    "\n",
    "prob_left_sal = (prob_sal_left * prob_left )/prob_sal\n",
    "\n",
    "print('Probability of employees left given salary range \\n',prob_left_sal)"
   ]
  },
  {
   "cell_type": "code",
   "execution_count": 36,
   "metadata": {
    "collapsed": false
   },
   "outputs": [
    {
     "name": "stdout",
     "output_type": "stream",
     "text": [
      "Odds are:  6.78891923527\n"
     ]
    }
   ],
   "source": [
    "#Question 9. What is the odds ratio of an employee with a high salary getting a promotion within the past \n",
    "#five years versus a low salary employee? Comment on your results.\n",
    "\n",
    "promote = data[data.promotion_last_5years == 1].salary.value_counts()/data.salary.value_counts()\n",
    "not_promote = data[data.promotion_last_5years == 0].salary.value_counts()/data.salary.value_counts()\n",
    "\n",
    "high = promote['high']/not_promote['high']\n",
    "low = promote['low']/not_promote['low']\n",
    "\n",
    "odds = high/low\n",
    "\n",
    "print('Odds are: ', odds)"
   ]
  },
  {
   "cell_type": "markdown",
   "metadata": {},
   "source": [
    "High salary employee is approximately 7 times likely to get a promotion than a low salary employee."
   ]
  },
  {
   "cell_type": "code",
   "execution_count": 47,
   "metadata": {
    "collapsed": false
   },
   "outputs": [
    {
     "name": "stdout",
     "output_type": "stream",
     "text": [
      "Sample mean of Satisfaction Levels of 50 random employees  0.5468\n",
      "Sample mean of Satisfaction Levels of 50 random employees  0.6632000000000002\n",
      "Sample mean of Satisfaction Levels of 50 random employees  0.5954\n",
      "Sample mean of Satisfaction Levels of 50 random employees  0.6397999999999998\n",
      "Sample mean of Satisfaction Levels of 50 random employees  0.6408\n",
      "Sample mean of Satisfaction Levels of 50 random employees  0.5934000000000001\n",
      "Sample mean of Satisfaction Levels of 50 random employees  0.6065999999999999\n",
      "Sample mean of Satisfaction Levels of 50 random employees  0.6054000000000002\n",
      "Sample mean of Satisfaction Levels of 50 random employees  0.6406000000000001\n",
      "Sample mean of Satisfaction Levels of 50 random employees  0.6057999999999999\n",
      "Sample mean of Satisfaction Levels of 50 random employees  0.49800000000000016\n"
     ]
    }
   ],
   "source": [
    "#Question 10. Suppose we were to pull 50 random samples of employee satisfaction levels. \n",
    "#What would approximately be the mean of this sample? What would be the mean of, say, 10 sets of random samples? \n",
    "#Demonstrate your assertions by writing some python code to do just that.\n",
    "\n",
    "random_sample = data.sample(50).satisfaction_level\n",
    "mean_50 = random_sample.mean()\n",
    "print('Sample mean of Satisfaction Levels of 50 random employees ', mean_50)\n",
    "\n",
    "for i in range(10):\n",
    "    sample_set = data.sample(50).satisfaction_level\n",
    "    mean_10 = sample_set.mean()\n",
    "    print('Sample mean of Satisfaction Levels of 50 random employees ', mean_10)"
   ]
  },
  {
   "cell_type": "code",
   "execution_count": null,
   "metadata": {
    "collapsed": true
   },
   "outputs": [],
   "source": []
  }
 ],
 "metadata": {
  "anaconda-cloud": {},
  "kernelspec": {
   "display_name": "Python [conda root]",
   "language": "python",
   "name": "conda-root-py"
  },
  "language_info": {
   "codemirror_mode": {
    "name": "ipython",
    "version": 3
   },
   "file_extension": ".py",
   "mimetype": "text/x-python",
   "name": "python",
   "nbconvert_exporter": "python",
   "pygments_lexer": "ipython3",
   "version": "3.5.2"
  }
 },
 "nbformat": 4,
 "nbformat_minor": 1
}
